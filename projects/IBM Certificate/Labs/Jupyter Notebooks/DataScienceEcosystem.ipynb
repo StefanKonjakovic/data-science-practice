{
 "cells": [
  {
   "cell_type": "markdown",
   "id": "408dcf29-a610-4904-92e8-cc6eb6c39061",
   "metadata": {},
   "source": [
    "# Data Science Tools and Ecosystem"
   ]
  },
  {
   "cell_type": "markdown",
   "id": "d5dd0884-3861-48c1-b929-746ce4192631",
   "metadata": {},
   "source": [
    "In this notebook the Data Science Tools and Ecosystem are summarized."
   ]
  },
  {
   "cell_type": "markdown",
   "id": "76101252-65df-4e49-a44a-239c7c1a7bc9",
   "metadata": {},
   "source": [
    "**Objectives:**\n",
    "- List popular languaged Data Scientists use\n",
    "- List popular libraries Data Scientists use\n",
    "- List Data Science Tools\n",
    "- Evaluate arithmetic expressions in Python"
   ]
  },
  {
   "cell_type": "markdown",
   "id": "45b79d12-2f22-4a53-bc68-dcb0f209d98f",
   "metadata": {},
   "source": [
    "Some of the popular languages that Data Scientists use are:\n",
    "1. Python\n",
    "2. R\n",
    "3. SQL\n",
    "4. Scala\n",
    "5. Java\n",
    "6. Julia"
   ]
  },
  {
   "cell_type": "markdown",
   "id": "5f93a566-d1e7-4a38-ad3f-1c79fcb7002e",
   "metadata": {},
   "source": [
    "Some of the commonly used libraries used by Data Scientists include:\n",
    "1. Pandas\n",
    "2. Numpy\n",
    "3. Scikit-learn\n",
    "4. Matplotlib\n",
    "5. TensorFlow\n",
    "6. Pytorch\n"
   ]
  },
  {
   "cell_type": "markdown",
   "id": "9b3cd897-e2d3-4633-84fd-58d1336ccdfc",
   "metadata": {},
   "source": [
    "|Data Science Tools|\n",
    "|------------------|\n",
    "|RStudio|\n",
    "|Jupyter Notebook|\n",
    "|Spyder|"
   ]
  },
  {
   "cell_type": "markdown",
   "id": "1ae0f432-5db0-4c3c-bc37-4d22a37d5915",
   "metadata": {},
   "source": [
    "### Below are a few examples of evaluating arithmetic expressions in Python"
   ]
  },
  {
   "cell_type": "code",
   "execution_count": 1,
   "id": "c2800fc5-7018-4526-b9b0-a5daaeb7c2fb",
   "metadata": {},
   "outputs": [
    {
     "data": {
      "text/plain": [
       "17"
      ]
     },
     "execution_count": 1,
     "metadata": {},
     "output_type": "execute_result"
    }
   ],
   "source": [
    "# This a simple arithmetic expression to mutiply then add integers\n",
    "(3*4)+5"
   ]
  },
  {
   "cell_type": "code",
   "execution_count": 2,
   "id": "74055c0b-11cf-4a3b-83a6-8862a5acf3dd",
   "metadata": {},
   "outputs": [
    {
     "data": {
      "text/plain": [
       "3.3333333333333335"
      ]
     },
     "execution_count": 2,
     "metadata": {},
     "output_type": "execute_result"
    }
   ],
   "source": [
    "# This will convert 200 minutes to hours by diving by 60\n",
    "200/60"
   ]
  },
  {
   "cell_type": "markdown",
   "id": "47413db7-f535-45b0-8024-5124768e80a5",
   "metadata": {},
   "source": [
    "## Author\n",
    "Stefan Konjakovic"
   ]
  },
  {
   "cell_type": "code",
   "execution_count": null,
   "id": "035a5208-abec-430d-ae1f-d12c77a7d81e",
   "metadata": {},
   "outputs": [],
   "source": []
  }
 ],
 "metadata": {
  "kernelspec": {
   "display_name": "Python 3 (ipykernel)",
   "language": "python",
   "name": "python3"
  },
  "language_info": {
   "codemirror_mode": {
    "name": "ipython",
    "version": 3
   },
   "file_extension": ".py",
   "mimetype": "text/x-python",
   "name": "python",
   "nbconvert_exporter": "python",
   "pygments_lexer": "ipython3",
   "version": "3.11.13"
  }
 },
 "nbformat": 4,
 "nbformat_minor": 5
}
